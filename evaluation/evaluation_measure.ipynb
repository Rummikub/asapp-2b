{
 "cells": [
  {
   "cell_type": "code",
   "execution_count": 2,
   "metadata": {},
   "outputs": [
    {
     "data": {
      "application/vnd.jupyter.widget-view+json": {
       "model_id": "98860d59a8ff4b9f9cbdee655b8cc944",
       "version_major": 2,
       "version_minor": 0
      },
      "text/plain": [
       "VBox(children=(HTML(value='<center> <img\\nsrc=https://huggingface.co/front/assets/huggingface_logo-noborder.sv…"
      ]
     },
     "metadata": {},
     "output_type": "display_data"
    }
   ],
   "source": [
    "from huggingface_hub import notebook_login\n",
    "notebook_login()"
   ]
  },
  {
   "cell_type": "code",
   "execution_count": 4,
   "metadata": {},
   "outputs": [
    {
     "data": {
      "application/vnd.jupyter.widget-view+json": {
       "model_id": "bf5ee76da5b04e199b954b8cfadbfe09",
       "version_major": 2,
       "version_minor": 0
      },
      "text/plain": [
       "Downloading (…)lve/main/config.json:   0%|          | 0.00/482 [00:00<?, ?B/s]"
      ]
     },
     "metadata": {},
     "output_type": "display_data"
    },
    {
     "data": {
      "application/vnd.jupyter.widget-view+json": {
       "model_id": "b2b11cdd628b4e40927484a40c83b1d6",
       "version_major": 2,
       "version_minor": 0
      },
      "text/plain": [
       "Downloading (…)olve/main/vocab.json:   0%|          | 0.00/899k [00:00<?, ?B/s]"
      ]
     },
     "metadata": {},
     "output_type": "display_data"
    },
    {
     "data": {
      "application/vnd.jupyter.widget-view+json": {
       "model_id": "fbdb57447e85449fa64b78e6b6930532",
       "version_major": 2,
       "version_minor": 0
      },
      "text/plain": [
       "Downloading (…)olve/main/merges.txt:   0%|          | 0.00/456k [00:00<?, ?B/s]"
      ]
     },
     "metadata": {},
     "output_type": "display_data"
    },
    {
     "data": {
      "application/vnd.jupyter.widget-view+json": {
       "model_id": "096baba45ddc4ff1a16a005b863cc9ea",
       "version_major": 2,
       "version_minor": 0
      },
      "text/plain": [
       "Downloading pytorch_model.bin:   0%|          | 0.00/1.43G [00:00<?, ?B/s]"
      ]
     },
     "metadata": {},
     "output_type": "display_data"
    }
   ],
   "source": [
    "from evaluate import load\n",
    "bertscore = load(\"bertscore\")\n",
    "predictions = [\"hello there\", \"general kenobi\"]\n",
    "references = [\"hello there\", \"general kenobi\"]\n",
    "results = bertscore.compute(predictions=predictions, references=references, lang=\"en\")"
   ]
  },
  {
   "cell_type": "code",
   "execution_count": 5,
   "metadata": {},
   "outputs": [
    {
     "data": {
      "text/plain": [
       "{'precision': [0.9999998807907104, 1.0000001192092896],\n",
       " 'recall': [0.9999998807907104, 1.0000001192092896],\n",
       " 'f1': [0.9999998807907104, 1.0000001192092896],\n",
       " 'hashcode': 'roberta-large_L17_no-idf_version=0.3.12(hug_trans=4.28.0)'}"
      ]
     },
     "execution_count": 5,
     "metadata": {},
     "output_type": "execute_result"
    }
   ],
   "source": [
    "results"
   ]
  },
  {
   "cell_type": "code",
   "execution_count": null,
   "metadata": {},
   "outputs": [],
   "source": []
  },
  {
   "cell_type": "code",
   "execution_count": null,
   "metadata": {},
   "outputs": [],
   "source": [
    "def generate(context, model, tokenizer):\n",
    "  # create prompt\n",
    "  prompt = context + \"agent: \"\n",
    "\n",
    "  # tokenize input (string -> tensor)\n",
    "  input_ids = tokenizer(prompt).input_ids\n",
    "\n",
    "  # call model generate (https://huggingface.co/docs/transformers/v4.34.0/en/main_classes/text_generation#transformers.GenerationMixin.generate)\n",
    "  # average length of sentence for agent response is 50 -> estimate around 150 new tokens \n",
    "  output_ids = model.generate(input_ids, max_new_tokens = 150, eos_token_id = )\n",
    "  \n",
    "  # decode output (tensor -> string)\n",
    "  pred_response = tokenizer.batch_decode(output_ids, skip_special_tokens = True)\n",
    "\n",
    "  return pred_response\n",
    "\n",
    "def main():\n",
    "  ## load test data using pandas\n",
    "  test_data = load(\"evaluation_csv_v1.csv\")\n",
    "  context_response_pairs = subsample(test_data, n=1000) \n",
    "\n",
    "  ## look into AutoModelForCausalLM.from_pretrained()\n",
    "  model_path = \"../finetuning/distilgpt2-finetuned-wikitext2/\"\n",
    "  model, tokenizer = load_model(model_path)\n",
    "  \n",
    "  # loop over the test set and collect pred, true responses into a list\n",
    "  all_pred_responses, all_true_responses = [], []\n",
    "  for context, true_response in context_response_pairs:\n",
    "    pred_response = generate(context, model, tokenizer)\n",
    "    all_pred_responses.append(pred_response)\n",
    "    all_true_responses.append(true_response)\n",
    "   \n",
    "  # Evaluation metric: https://huggingface.co/spaces/evaluate-metric/bertscore (use the f1 scores from the results)\n",
    "  bertscore = load(\"bertscore\")\n",
    "  results = bertscore.compute(pred_response_list, true_response_list)"
   ]
  }
 ],
 "metadata": {
  "kernelspec": {
   "display_name": "base",
   "language": "python",
   "name": "python3"
  },
  "language_info": {
   "codemirror_mode": {
    "name": "ipython",
    "version": 3
   },
   "file_extension": ".py",
   "mimetype": "text/x-python",
   "name": "python",
   "nbconvert_exporter": "python",
   "pygments_lexer": "ipython3",
   "version": "3.10.9"
  },
  "orig_nbformat": 4
 },
 "nbformat": 4,
 "nbformat_minor": 2
}
