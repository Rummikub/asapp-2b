{
 "cells": [
  {
   "cell_type": "code",
   "execution_count": 2,
   "metadata": {},
   "outputs": [],
   "source": [
    "import json\n",
    "import pandas as pd\n",
    "import numpy as np"
   ]
  },
  {
   "cell_type": "code",
   "execution_count": 3,
   "metadata": {},
   "outputs": [
    {
     "data": {
      "text/plain": [
       "dict_keys(['train', 'dev', 'test'])"
      ]
     },
     "execution_count": 3,
     "metadata": {},
     "output_type": "execute_result"
    }
   ],
   "source": [
    "f = open(\"../data/abcd_v1.1.json\")\n",
    "data = json.load(f)\n",
    "data.keys()"
   ]
  },
  {
   "cell_type": "code",
   "execution_count": 4,
   "metadata": {},
   "outputs": [],
   "source": [
    "# Create Dataframe to store context and true_response_agent\n",
    "df = pd.DataFrame(columns=[\"context\", \"true_agent_response\"])"
   ]
  },
  {
   "cell_type": "code",
   "execution_count": 10,
   "metadata": {},
   "outputs": [],
   "source": [
    "for element in data[\"test\"]:\n",
    "    found_customer_utterance = True\n",
    "    found_agent_utterance = True\n",
    "    context = \"\"\n",
    "    true_agent_response = \"\"\n",
    "\n",
    "    for conversation in element[\"original\"]:\n",
    "        # find customer utterance\n",
    "        if found_customer_utterance:\n",
    "            if conversation[0] == \"customer\":\n",
    "                context = f\"{context} {conversation[0]}: {conversation[1]}\"\n",
    "\n",
    "                #reset values\n",
    "                found_customer_utterance = False\n",
    "                found_agent_utterance = True\n",
    "                continue\n",
    "            if conversation[0] == \"agent\":\n",
    "                context = f\"{context} {conversation[0]}: {conversation[1]}\"\n",
    "        \n",
    "        # find true_agent_response\n",
    "        if not found_customer_utterance and found_agent_utterance:\n",
    "            if conversation[0] == \"customer\":\n",
    "                context = f\"{context} {conversation[0]}: {conversation[1]}\"\n",
    "                \n",
    "            if conversation[0] == \"agent\":\n",
    "                true_agent_response = f\"{conversation[1]}\"\n",
    "                # reset values\n",
    "                found_agent_utterance = False\n",
    "                found_customer_utterance = True\n",
    "\n",
    "                # add row to dataframe\n",
    "                new_row = {\"context\": context, \"true_agent_response\":true_agent_response}\n",
    "                df = pd.concat([df, pd.DataFrame([new_row])], ignore_index=True)\n",
    "\n",
    "                context = f\"{context} {conversation[0]}: {conversation[1]}\"\n",
    "        \n",
    "    new_row = {\"context\": \"\", \"true_agent_response\":\"\"}\n",
    "    df = pd.concat([df, pd.DataFrame([new_row])], ignore_index=True)"
   ]
  },
  {
   "cell_type": "code",
   "execution_count": 11,
   "metadata": {},
   "outputs": [],
   "source": [
    "df.to_excel(\"output6.xlsx\")"
   ]
  },
  {
   "cell_type": "code",
   "execution_count": 16,
   "metadata": {},
   "outputs": [
    {
     "data": {
      "text/plain": [
       "' agent: Hi! agent: How can I help you? customer: Hi! I need to return an item, can you help me with that?'"
      ]
     },
     "execution_count": 16,
     "metadata": {},
     "output_type": "execute_result"
    }
   ],
   "source": [
    "context"
   ]
  },
  {
   "cell_type": "code",
   "execution_count": 5,
   "metadata": {},
   "outputs": [
    {
     "data": {
      "text/plain": [
       "[['agent', 'Hello. How can i help you today?'],\n",
       " ['customer',\n",
       "  'Hi.  My name is Chloe Zhang.  I am curious as to when my promo code expires.'],\n",
       " ['customer', 'Would you be able to tell me?'],\n",
       " ['agent', 'Yes let me look into this im sure we can find a solution'],\n",
       " ['action', 'Searching the FAQ pages ...'],\n",
       " ['action', 'System Action: search timing'],\n",
       " ['agent', \"Okay I've looked into this for you\"],\n",
       " ['agent', 'Promo codes will expire 7 days after they are issued.'],\n",
       " ['customer', 'Ok.'],\n",
       " ['agent', 'Is there anything else I can help you with?'],\n",
       " ['customer', 'No that is all for today.  Thank you.']]"
      ]
     },
     "execution_count": 5,
     "metadata": {},
     "output_type": "execute_result"
    }
   ],
   "source": [
    "# testing \n",
    "first_entry = True\n",
    "found_customer = False\n",
    "found_agent = False\n",
    "\n",
    "for i in data[\"test\"][0][\"original\"]:\n",
    "    \n",
    "    #initial\n",
    "    if first_entry:\n",
    "        while not found_customer:\n",
    "            if i[0] == \"agent\":\n",
    "                context = f\"{context} {conversation[0]}: {conversation[1]}\"\n",
    "            if i[0] == \"customer\":\n",
    "                context = f\"{context} {conversation[0]}: {conversation[1]}\"\n",
    "                first_entry = True\n",
    "                found_customer = True\n",
    "    else:\n",
    "         while \n",
    "    \n",
    "    \n",
    "    while found_customer and not found_agent:\n",
    "        if i[0] == \"customer\":\n",
    "                context = f\"{context} {i[0]}: {i[1]}\"\n",
    "                \n",
    "        if i[0] == \"agent\":\n",
    "            true_agent_response = f\"{i[1]}\"\n",
    "            # reset values\n",
    "            found_agent_utterance = False\n",
    "            found_customer_utterance = True\n",
    "\n",
    "            # add row to dataframe\n",
    "            new_row = {\"context\": context, \"true_agent_response\":true_agent_response}\n",
    "            df = pd.concat([df, pd.DataFrame([new_row])], ignore_index=True)\n",
    "\n",
    "            context = f\"{context} {i[0]}: {i[1]}\"\n"
   ]
  },
  {
   "cell_type": "code",
   "execution_count": null,
   "metadata": {},
   "outputs": [],
   "source": []
  }
 ],
 "metadata": {
  "kernelspec": {
   "display_name": "base",
   "language": "python",
   "name": "python3"
  },
  "language_info": {
   "codemirror_mode": {
    "name": "ipython",
    "version": 3
   },
   "file_extension": ".py",
   "mimetype": "text/x-python",
   "name": "python",
   "nbconvert_exporter": "python",
   "pygments_lexer": "ipython3",
   "version": "3.10.9"
  },
  "orig_nbformat": 4
 },
 "nbformat": 4,
 "nbformat_minor": 2
}
