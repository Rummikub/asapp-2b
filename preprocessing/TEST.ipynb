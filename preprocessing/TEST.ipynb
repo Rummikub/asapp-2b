{
 "cells": [
  {
   "cell_type": "code",
   "execution_count": 2,
   "metadata": {},
   "outputs": [],
   "source": [
    "import json"
   ]
  },
  {
   "cell_type": "code",
   "execution_count": 3,
   "metadata": {},
   "outputs": [],
   "source": [
    "f = open(\"../data/abcd_v1.1.json\")\n",
    "data = json.load(f)"
   ]
  },
  {
   "cell_type": "code",
   "execution_count": 4,
   "metadata": {},
   "outputs": [
    {
     "data": {
      "text/plain": [
       "dict_keys(['train', 'dev', 'test'])"
      ]
     },
     "execution_count": 4,
     "metadata": {},
     "output_type": "execute_result"
    }
   ],
   "source": [
    "data.keys()"
   ]
  },
  {
   "cell_type": "code",
   "execution_count": 11,
   "metadata": {},
   "outputs": [
    {
     "data": {
      "text/plain": [
       "[['agent', 'Hi!'],\n",
       " ['agent', 'How can I help you?'],\n",
       " ['customer', 'Hi! I need to return an item, can you help me with that?'],\n",
       " ['agent', 'sure, may I have your name please?'],\n",
       " ['customer', 'Crystal Minh'],\n",
       " ['agent', 'thanks, may I ask the reason for the return?'],\n",
       " ['action', 'Account has been pulled up for Crystal Minh.'],\n",
       " ['customer', 'I got the wrong size.'],\n",
       " ['agent', 'ok, may I have your username, email address and order ID please?'],\n",
       " ['customer', 'Username: cminh730'],\n",
       " ['customer', 'cminh730@email.com'],\n",
       " ['customer', 'Order ID: 3348917502'],\n",
       " ['action', 'Purchase validation in progress ...'],\n",
       " ['agent', 'thanks so much! What is your membership level Crystal?'],\n",
       " ['customer', \"I'm a bronze\"],\n",
       " ['agent', 'ok, was the purchase made in the last 90 days?'],\n",
       " ['customer', 'No, I bought it in November.'],\n",
       " ['agent',\n",
       "  'ok, unfortunately because it has been more than 90 days we cannot accept the return. Would there be anything else I can help you with?'],\n",
       " ['customer', 'What if I ask really, really nicely?'],\n",
       " ['agent', \"I can escalate to my manager if you'd like\"],\n",
       " ['agent', \"I'd just need your phone number.\"],\n",
       " ['customer', '(977) 625-2661'],\n",
       " ['action', 'Details of (977) 625-2661 have been entered.'],\n",
       " ['action', 'The manager has been notified.'],\n",
       " ['customer', \"I'll look forward to hearing from them.\"],\n",
       " ['customer', 'Thanks for trying to help.'],\n",
       " ['agent',\n",
       "  \"OK, I have let my manager know, they will give you a call. Sorry I couldn't be of more assistance!\"],\n",
       " ['agent', 'Have a great night!'],\n",
       " ['customer', \"That's it. Take care.\"]]"
      ]
     },
     "execution_count": 11,
     "metadata": {},
     "output_type": "execute_result"
    }
   ],
   "source": [
    "train_data = data[\"train\"][0][\"original\"]\n",
    "stringify = \"\"\n",
    "for conversation in data[\"train\"][0][\"original\"]:\n",
    "    stringify = f\"\"\"{stringify} {conversation[0]}: {conversation[1]}\"\"\"\n",
    "train_data"
   ]
  },
  {
   "cell_type": "code",
   "execution_count": 12,
   "metadata": {},
   "outputs": [
    {
     "name": "stdout",
     "output_type": "stream",
     "text": [
      "['agent', 'Hi!']\n",
      "['agent', 'How can I help you?']\n",
      "['customer', 'Hi! I need to return an item, can you help me with that?']\n",
      "['agent', 'sure, may I have your name please?']\n",
      "['customer', 'Crystal Minh']\n",
      "['agent', 'thanks, may I ask the reason for the return?']\n",
      "['customer', 'I got the wrong size.']\n",
      "['agent', 'ok, may I have your username, email address and order ID please?']\n",
      "['customer', 'Username: cminh730']\n",
      "['customer', 'cminh730@email.com']\n",
      "['customer', 'Order ID: 3348917502']\n",
      "['agent', 'thanks so much! What is your membership level Crystal?']\n",
      "['customer', \"I'm a bronze\"]\n",
      "['agent', 'ok, was the purchase made in the last 90 days?']\n",
      "['customer', 'No, I bought it in November.']\n",
      "['agent', 'ok, unfortunately because it has been more than 90 days we cannot accept the return. Would there be anything else I can help you with?']\n",
      "['customer', 'What if I ask really, really nicely?']\n",
      "['agent', \"I can escalate to my manager if you'd like\"]\n",
      "['agent', \"I'd just need your phone number.\"]\n",
      "['customer', '(977) 625-2661']\n",
      "['customer', \"I'll look forward to hearing from them.\"]\n",
      "['customer', 'Thanks for trying to help.']\n",
      "['agent', \"OK, I have let my manager know, they will give you a call. Sorry I couldn't be of more assistance!\"]\n",
      "['agent', 'Have a great night!']\n",
      "['customer', \"That's it. Take care.\"]\n"
     ]
    }
   ],
   "source": [
    "filtered_data = [line for line in train_data if line[0] != 'action']\n",
    "\n",
    "# Printing the filtered data\n",
    "for line in filtered_data:\n",
    "    print(line)"
   ]
  },
  {
   "cell_type": "code",
   "execution_count": 15,
   "metadata": {},
   "outputs": [
    {
     "data": {
      "text/plain": [
       "8034"
      ]
     },
     "execution_count": 15,
     "metadata": {},
     "output_type": "execute_result"
    }
   ],
   "source": [
    "len(data[\"train\"])\n"
   ]
  },
  {
   "cell_type": "code",
   "execution_count": 16,
   "metadata": {},
   "outputs": [
    {
     "data": {
      "text/plain": [
       "[['agent', 'Hello. How may I help you today?'],\n",
       " ['customer',\n",
       "  \"I was trying to see my history but I can't remember my username.\"],\n",
       " ['agent',\n",
       "  'I can definitely help you with that. What is your name and email address?'],\n",
       " ['customer', 'David Williams'],\n",
       " ['customer', 'davidw33@email.com'],\n",
       " ['action', 'Account has been pulled up for David Williams.'],\n",
       " ['agent', 'Can I also have your zip code and phone number please?'],\n",
       " ['customer', '14224'],\n",
       " ['customer', '(791) 582-4288'],\n",
       " ['agent',\n",
       "  'Thank you so much for verifying that. One moment while I pull this up.'],\n",
       " ['action', 'Identity verification in progess ...'],\n",
       " ['agent', 'Your username on file is dwilliams1'],\n",
       " ['agent', 'Anything else I can help you with?'],\n",
       " ['customer', \"Ok, thanks! That's all I needed.\"],\n",
       " ['agent', 'Great have a nice day.']]"
      ]
     },
     "execution_count": 16,
     "metadata": {},
     "output_type": "execute_result"
    }
   ],
   "source": [
    "dev_data = data[\"dev\"][0][\"original\"]\n",
    "stringify = \"\"\n",
    "for conversation in data[\"dev\"][0][\"original\"]:\n",
    "    stringify = f\"\"\"{stringify} {conversation[0]}: {conversation[1]}\"\"\"\n",
    "dev_data"
   ]
  },
  {
   "cell_type": "code",
   "execution_count": 17,
   "metadata": {},
   "outputs": [
    {
     "data": {
      "text/plain": [
       "[['agent', 'Hello. How can i help you today?'],\n",
       " ['customer',\n",
       "  'Hi.  My name is Chloe Zhang.  I am curious as to when my promo code expires.'],\n",
       " ['customer', 'Would you be able to tell me?'],\n",
       " ['agent', 'Yes let me look into this im sure we can find a solution'],\n",
       " ['action', 'Searching the FAQ pages ...'],\n",
       " ['action', 'System Action: search timing'],\n",
       " ['agent', \"Okay I've looked into this for you\"],\n",
       " ['agent', 'Promo codes will expire 7 days after they are issued.'],\n",
       " ['customer', 'Ok.'],\n",
       " ['agent', 'Is there anything else I can help you with?'],\n",
       " ['customer', 'No that is all for today.  Thank you.']]"
      ]
     },
     "execution_count": 17,
     "metadata": {},
     "output_type": "execute_result"
    }
   ],
   "source": [
    "test_data = data[\"test\"][0][\"original\"]\n",
    "stringify = \"\"\n",
    "for conversation in data[\"test\"][0][\"original\"]:\n",
    "    stringify = f\"\"\"{stringify} {conversation[0]}: {conversation[1]}\"\"\"\n",
    "test_data"
   ]
  }
 ],
 "metadata": {
  "kernelspec": {
   "display_name": "Python 3 (ipykernel)",
   "language": "python",
   "name": "python3"
  },
  "language_info": {
   "codemirror_mode": {
    "name": "ipython",
    "version": 3
   },
   "file_extension": ".py",
   "mimetype": "text/x-python",
   "name": "python",
   "nbconvert_exporter": "python",
   "pygments_lexer": "ipython3",
   "version": "3.11.0"
  },
  "orig_nbformat": 4
 },
 "nbformat": 4,
 "nbformat_minor": 2
}
