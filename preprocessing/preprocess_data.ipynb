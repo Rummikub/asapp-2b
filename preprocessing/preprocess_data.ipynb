{
 "cells": [
  {
   "cell_type": "code",
   "execution_count": 1,
   "metadata": {},
   "outputs": [],
   "source": [
    "import json\n",
    "import gzip\n",
    "import pandas as pd\n",
    "import requests\n",
    "from io import BytesIO"
   ]
  },
  {
   "cell_type": "code",
   "execution_count": 2,
   "metadata": {},
   "outputs": [
    {
     "name": "stdout",
     "output_type": "stream",
     "text": [
      "Keys in the loaded JSON data:\n",
      "dict_keys(['train', 'dev', 'test'])\n"
     ]
    }
   ],
   "source": [
    "\n",
    "# Define the URL of the raw JSON file\n",
    "url = \"https://raw.githubusercontent.com/asappresearch/abcd/master/data/abcd_v1.1.json.gz\"\n",
    "\n",
    "\n",
    "# Download the gzipped JSON file\n",
    "response = requests.get(url)\n",
    "\n",
    "# Check if the download was successful\n",
    "if response.status_code == 200:\n",
    "    # Open the gzipped JSON file and load it into a Python dictionary\n",
    "    with gzip.GzipFile(fileobj=BytesIO(response.content), mode='r') as f:\n",
    "        data = json.load(f)\n",
    "\n",
    "    # Check the structure of the loaded data\n",
    "    if isinstance(data, dict):\n",
    "        # If the data is a dictionary, print its keys\n",
    "        print(\"Keys in the loaded JSON data:\")\n",
    "        print(data.keys())\n",
    "    else:\n",
    "        # If the data is not a dictionary, print a summary\n",
    "        print(\"Loaded JSON data is not a dictionary.\")\n",
    "\n",
    "else:\n",
    "    print(\"Failed to download the file.\")"
   ]
  },
  {
   "cell_type": "code",
   "execution_count": 6,
   "metadata": {},
   "outputs": [
    {
     "name": "stdout",
     "output_type": "stream",
     "text": [
      "['agent', 'Hi!']\n",
      "['agent', 'How can I help you?']\n",
      "['customer', 'Hi! I need to return an item, can you help me with that?']\n",
      "['agent', 'sure, may I have your name please?']\n",
      "['customer', 'Crystal Minh']\n",
      "['agent', 'thanks, may I ask the reason for the return?']\n",
      "['customer', 'I got the wrong size.']\n",
      "['agent', 'ok, may I have your username, email address and order ID please?']\n",
      "['customer', 'Username: cminh730']\n",
      "['customer', 'cminh730@email.com']\n",
      "['customer', 'Order ID: 3348917502']\n",
      "['agent', 'thanks so much! What is your membership level Crystal?']\n",
      "['customer', \"I'm a bronze\"]\n",
      "['agent', 'ok, was the purchase made in the last 90 days?']\n",
      "['customer', 'No, I bought it in November.']\n",
      "['agent', 'ok, unfortunately because it has been more than 90 days we cannot accept the return. Would there be anything else I can help you with?']\n",
      "['customer', 'What if I ask really, really nicely?']\n",
      "['agent', \"I can escalate to my manager if you'd like\"]\n",
      "['agent', \"I'd just need your phone number.\"]\n",
      "['customer', '(977) 625-2661']\n",
      "['customer', \"I'll look forward to hearing from them.\"]\n",
      "['customer', 'Thanks for trying to help.']\n",
      "['agent', \"OK, I have let my manager know, they will give you a call. Sorry I couldn't be of more assistance!\"]\n",
      "['agent', 'Have a great night!']\n",
      "['customer', \"That's it. Take care.\"]\n"
     ]
    }
   ],
   "source": [
    "train_data = data[\"train\"][0][\"original\"]\n",
    "stringify = \"\"\n",
    "for conversation in data[\"train\"][0][\"original\"]:\n",
    "    stringify = f\"\"\"{stringify} {conversation[0]}: {conversation[1]}\"\"\"\n",
    "filtered_data = [line for line in train_data if line[0] != 'action']\n",
    "\n",
    "# Printing the filtered data\n",
    "for line in filtered_data:\n",
    "    print(line)"
   ]
  },
  {
   "cell_type": "code",
   "execution_count": 5,
   "metadata": {},
   "outputs": [
    {
     "name": "stdout",
     "output_type": "stream",
     "text": [
      "['agent', 'Hello. How may I help you today?']\n",
      "['customer', \"I was trying to see my history but I can't remember my username.\"]\n",
      "['agent', 'I can definitely help you with that. What is your name and email address?']\n",
      "['customer', 'David Williams']\n",
      "['customer', 'davidw33@email.com']\n",
      "['agent', 'Can I also have your zip code and phone number please?']\n",
      "['customer', '14224']\n",
      "['customer', '(791) 582-4288']\n",
      "['agent', 'Thank you so much for verifying that. One moment while I pull this up.']\n",
      "['agent', 'Your username on file is dwilliams1']\n",
      "['agent', 'Anything else I can help you with?']\n",
      "['customer', \"Ok, thanks! That's all I needed.\"]\n",
      "['agent', 'Great have a nice day.']\n"
     ]
    }
   ],
   "source": [
    "dev_data = data[\"dev\"][0][\"original\"]\n",
    "stringify = \"\"\n",
    "for conversation in data[\"dev\"][0][\"original\"]:\n",
    "    stringify = f\"\"\"{stringify} {conversation[0]}: {conversation[1]}\"\"\"\n",
    "filtered_data = [line for line in dev_data if line[0] != 'action']\n",
    "\n",
    "# Printing the filtered data\n",
    "for line in filtered_data:\n",
    "    print(line)"
   ]
  },
  {
   "cell_type": "code",
   "execution_count": 8,
   "metadata": {},
   "outputs": [
    {
     "name": "stdout",
     "output_type": "stream",
     "text": [
      "['agent', 'Hello. How can i help you today?']\n",
      "['customer', 'Hi.  My name is Chloe Zhang.  I am curious as to when my promo code expires.']\n",
      "['customer', 'Would you be able to tell me?']\n",
      "['agent', 'Yes let me look into this im sure we can find a solution']\n",
      "['agent', \"Okay I've looked into this for you\"]\n",
      "['agent', 'Promo codes will expire 7 days after they are issued.']\n",
      "['customer', 'Ok.']\n",
      "['agent', 'Is there anything else I can help you with?']\n",
      "['customer', 'No that is all for today.  Thank you.']\n"
     ]
    }
   ],
   "source": [
    "test_data = data[\"test\"][0][\"original\"]\n",
    "stringify = \"\"\n",
    "for conversation in data[\"test\"][0][\"original\"]:\n",
    "    stringify = f\"\"\"{stringify} {conversation[0]}: {conversation[1]}\"\"\"\n",
    "filtered_data = [line for line in test_data if line[0] != 'action']\n",
    "\n",
    "# Printing the filtered data\n",
    "for line in filtered_data:\n",
    "    print(line)"
   ]
  }
 ],
 "metadata": {
  "kernelspec": {
   "display_name": "Python 3 (ipykernel)",
   "language": "python",
   "name": "python3"
  },
  "language_info": {
   "codemirror_mode": {
    "name": "ipython",
    "version": 3
   },
   "file_extension": ".py",
   "mimetype": "text/x-python",
   "name": "python",
   "nbconvert_exporter": "python",
   "pygments_lexer": "ipython3",
   "version": "3.11.0"
  }
 },
 "nbformat": 4,
 "nbformat_minor": 4
}
