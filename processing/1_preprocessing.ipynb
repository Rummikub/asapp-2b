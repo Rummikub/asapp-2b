{
 "cells": [
  {
   "cell_type": "code",
   "execution_count": 1,
   "id": "0dc0da0c",
   "metadata": {},
   "outputs": [],
   "source": [
    "import json\n",
    "\n",
    "import pandas as pd\n",
    "import numpy as np"
   ]
  },
  {
   "cell_type": "code",
   "execution_count": 2,
   "id": "f00c9a9b",
   "metadata": {},
   "outputs": [],
   "source": [
    "# filepath \"/Users/MariaReccoppa/Desktop/ASAPP-2B/asapp-2b/data/abcd_v1.1.json\""
   ]
  },
  {
   "cell_type": "markdown",
   "id": "8cfa4af8",
   "metadata": {},
   "source": [
    "### Opening .json File"
   ]
  },
  {
   "cell_type": "code",
   "execution_count": 3,
   "id": "34b2329b",
   "metadata": {},
   "outputs": [],
   "source": [
    "file = open(\"../data/abcd_v1.1.json\")\n",
    "data = json.load(file)"
   ]
  },
  {
   "cell_type": "code",
   "execution_count": 4,
   "id": "24687f8e",
   "metadata": {},
   "outputs": [
    {
     "data": {
      "text/plain": [
       "dict_keys(['train', 'dev', 'test'])"
      ]
     },
     "execution_count": 4,
     "metadata": {},
     "output_type": "execute_result"
    }
   ],
   "source": [
    "data.keys()"
   ]
  },
  {
   "cell_type": "code",
   "execution_count": 5,
   "id": "7305e2e8",
   "metadata": {},
   "outputs": [
    {
     "data": {
      "text/plain": [
       "[['agent', 'Hi!'],\n",
       " ['agent', 'How can I help you?'],\n",
       " ['customer', 'Hi! I need to return an item, can you help me with that?'],\n",
       " ['agent', 'sure, may I have your name please?'],\n",
       " ['customer', 'Crystal Minh'],\n",
       " ['agent', 'thanks, may I ask the reason for the return?'],\n",
       " ['action', 'Account has been pulled up for Crystal Minh.'],\n",
       " ['customer', 'I got the wrong size.'],\n",
       " ['agent', 'ok, may I have your username, email address and order ID please?'],\n",
       " ['customer', 'Username: cminh730'],\n",
       " ['customer', 'cminh730@email.com'],\n",
       " ['customer', 'Order ID: 3348917502'],\n",
       " ['action', 'Purchase validation in progress ...'],\n",
       " ['agent', 'thanks so much! What is your membership level Crystal?'],\n",
       " ['customer', \"I'm a bronze\"],\n",
       " ['agent', 'ok, was the purchase made in the last 90 days?'],\n",
       " ['customer', 'No, I bought it in November.'],\n",
       " ['agent',\n",
       "  'ok, unfortunately because it has been more than 90 days we cannot accept the return. Would there be anything else I can help you with?'],\n",
       " ['customer', 'What if I ask really, really nicely?'],\n",
       " ['agent', \"I can escalate to my manager if you'd like\"],\n",
       " ['agent', \"I'd just need your phone number.\"],\n",
       " ['customer', '(977) 625-2661'],\n",
       " ['action', 'Details of (977) 625-2661 have been entered.'],\n",
       " ['action', 'The manager has been notified.'],\n",
       " ['customer', \"I'll look forward to hearing from them.\"],\n",
       " ['customer', 'Thanks for trying to help.'],\n",
       " ['agent',\n",
       "  \"OK, I have let my manager know, they will give you a call. Sorry I couldn't be of more assistance!\"],\n",
       " ['agent', 'Have a great night!'],\n",
       " ['customer', \"That's it. Take care.\"]]"
      ]
     },
     "execution_count": 5,
     "metadata": {},
     "output_type": "execute_result"
    }
   ],
   "source": [
    "data[\"train\"][0][\"original\"]"
   ]
  },
  {
   "cell_type": "markdown",
   "id": "ddbceaa5",
   "metadata": {},
   "source": [
    "### Empty Dataframe For Data"
   ]
  },
  {
   "cell_type": "code",
   "execution_count": 6,
   "id": "ae47debc",
   "metadata": {},
   "outputs": [],
   "source": [
    "df = pd.DataFrame(columns=[\"context\", \"true_agent_response\"])"
   ]
  },
  {
   "cell_type": "markdown",
   "id": "2a4078b6",
   "metadata": {},
   "source": [
    "### Process Data"
   ]
  },
  {
   "cell_type": "code",
   "execution_count": 7,
   "id": "1f8df8e5",
   "metadata": {},
   "outputs": [],
   "source": [
    "customer_responses = []\n",
    "agent_responses = []\n",
    "\n",
    "for i in data[\"train\"][0][\"original\"]:\n",
    "    if i[0] == \"customer\":\n",
    "        customer_responses.append(i[1])\n",
    "        agent_responses.append(np.nan)  \n",
    "    elif i[0] == \"agent\" and agent_responses:\n",
    "        agent_responses[-1] = i[1] \n",
    "\n",
    "df = pd.DataFrame({\n",
    "    'customer_responses': customer_responses,\n",
    "    'agent_responses': agent_responses\n",
    "})"
   ]
  },
  {
   "cell_type": "code",
   "execution_count": 8,
   "id": "28c147b5",
   "metadata": {},
   "outputs": [
    {
     "data": {
      "text/html": [
       "<div>\n",
       "<style scoped>\n",
       "    .dataframe tbody tr th:only-of-type {\n",
       "        vertical-align: middle;\n",
       "    }\n",
       "\n",
       "    .dataframe tbody tr th {\n",
       "        vertical-align: top;\n",
       "    }\n",
       "\n",
       "    .dataframe thead th {\n",
       "        text-align: right;\n",
       "    }\n",
       "</style>\n",
       "<table border=\"1\" class=\"dataframe\">\n",
       "  <thead>\n",
       "    <tr style=\"text-align: right;\">\n",
       "      <th></th>\n",
       "      <th>customer_responses</th>\n",
       "      <th>agent_responses</th>\n",
       "    </tr>\n",
       "  </thead>\n",
       "  <tbody>\n",
       "    <tr>\n",
       "      <th>0</th>\n",
       "      <td>Hi! I need to return an item, can you help me ...</td>\n",
       "      <td>sure, may I have your name please?</td>\n",
       "    </tr>\n",
       "    <tr>\n",
       "      <th>1</th>\n",
       "      <td>Crystal Minh</td>\n",
       "      <td>thanks, may I ask the reason for the return?</td>\n",
       "    </tr>\n",
       "    <tr>\n",
       "      <th>2</th>\n",
       "      <td>I got the wrong size.</td>\n",
       "      <td>ok, may I have your username, email address an...</td>\n",
       "    </tr>\n",
       "    <tr>\n",
       "      <th>3</th>\n",
       "      <td>Username: cminh730</td>\n",
       "      <td>NaN</td>\n",
       "    </tr>\n",
       "    <tr>\n",
       "      <th>4</th>\n",
       "      <td>cminh730@email.com</td>\n",
       "      <td>NaN</td>\n",
       "    </tr>\n",
       "    <tr>\n",
       "      <th>5</th>\n",
       "      <td>Order ID: 3348917502</td>\n",
       "      <td>thanks so much! What is your membership level ...</td>\n",
       "    </tr>\n",
       "    <tr>\n",
       "      <th>6</th>\n",
       "      <td>I'm a bronze</td>\n",
       "      <td>ok, was the purchase made in the last 90 days?</td>\n",
       "    </tr>\n",
       "    <tr>\n",
       "      <th>7</th>\n",
       "      <td>No, I bought it in November.</td>\n",
       "      <td>ok, unfortunately because it has been more tha...</td>\n",
       "    </tr>\n",
       "    <tr>\n",
       "      <th>8</th>\n",
       "      <td>What if I ask really, really nicely?</td>\n",
       "      <td>I'd just need your phone number.</td>\n",
       "    </tr>\n",
       "    <tr>\n",
       "      <th>9</th>\n",
       "      <td>(977) 625-2661</td>\n",
       "      <td>NaN</td>\n",
       "    </tr>\n",
       "    <tr>\n",
       "      <th>10</th>\n",
       "      <td>I'll look forward to hearing from them.</td>\n",
       "      <td>NaN</td>\n",
       "    </tr>\n",
       "    <tr>\n",
       "      <th>11</th>\n",
       "      <td>Thanks for trying to help.</td>\n",
       "      <td>Have a great night!</td>\n",
       "    </tr>\n",
       "    <tr>\n",
       "      <th>12</th>\n",
       "      <td>That's it. Take care.</td>\n",
       "      <td>NaN</td>\n",
       "    </tr>\n",
       "  </tbody>\n",
       "</table>\n",
       "</div>"
      ],
      "text/plain": [
       "                                   customer_responses  \\\n",
       "0   Hi! I need to return an item, can you help me ...   \n",
       "1                                        Crystal Minh   \n",
       "2                               I got the wrong size.   \n",
       "3                                  Username: cminh730   \n",
       "4                                  cminh730@email.com   \n",
       "5                                Order ID: 3348917502   \n",
       "6                                        I'm a bronze   \n",
       "7                        No, I bought it in November.   \n",
       "8                What if I ask really, really nicely?   \n",
       "9                                      (977) 625-2661   \n",
       "10            I'll look forward to hearing from them.   \n",
       "11                         Thanks for trying to help.   \n",
       "12                              That's it. Take care.   \n",
       "\n",
       "                                      agent_responses  \n",
       "0                  sure, may I have your name please?  \n",
       "1        thanks, may I ask the reason for the return?  \n",
       "2   ok, may I have your username, email address an...  \n",
       "3                                                 NaN  \n",
       "4                                                 NaN  \n",
       "5   thanks so much! What is your membership level ...  \n",
       "6      ok, was the purchase made in the last 90 days?  \n",
       "7   ok, unfortunately because it has been more tha...  \n",
       "8                    I'd just need your phone number.  \n",
       "9                                                 NaN  \n",
       "10                                                NaN  \n",
       "11                                Have a great night!  \n",
       "12                                                NaN  "
      ]
     },
     "execution_count": 8,
     "metadata": {},
     "output_type": "execute_result"
    }
   ],
   "source": [
    "df"
   ]
  },
  {
   "cell_type": "code",
   "execution_count": 9,
   "id": "26e7fecb",
   "metadata": {},
   "outputs": [],
   "source": [
    "df.to_excel(\"data_processed.xlsx\")"
   ]
  },
  {
   "cell_type": "code",
   "execution_count": null,
   "id": "15d95b60",
   "metadata": {},
   "outputs": [],
   "source": []
  }
 ],
 "metadata": {
  "kernelspec": {
   "display_name": "Python 3 (ipykernel)",
   "language": "python",
   "name": "python3"
  },
  "language_info": {
   "codemirror_mode": {
    "name": "ipython",
    "version": 3
   },
   "file_extension": ".py",
   "mimetype": "text/x-python",
   "name": "python",
   "nbconvert_exporter": "python",
   "pygments_lexer": "ipython3",
   "version": "3.11.4"
  }
 },
 "nbformat": 4,
 "nbformat_minor": 5
}
