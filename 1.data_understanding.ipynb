{
 "cells": [
  {
   "cell_type": "code",
   "execution_count": 1,
   "metadata": {},
   "outputs": [],
   "source": [
    "# Import all packages\n",
    "import json\n",
    "import gzip\n",
    "import pandas as pd\n",
    "import numpy as np"
   ]
  },
  {
   "cell_type": "markdown",
   "metadata": {},
   "source": [
    "### Data size\n",
    "len(json_text) : 201712280 \n",
    "\n",
    "### Sample data\n",
    "[{\"convo_id\": 3592, \"original\": [[\"agent\", \"Hi!\"], [\"agent\", \"How can I help you?\"], [\"customer\", \"Hi!]]}]"
   ]
  },
  {
   "cell_type": "code",
   "execution_count": 14,
   "metadata": {},
   "outputs": [
    {
     "data": {
      "text/html": [
       "<div>\n",
       "<style scoped>\n",
       "    .dataframe tbody tr th:only-of-type {\n",
       "        vertical-align: middle;\n",
       "    }\n",
       "\n",
       "    .dataframe tbody tr th {\n",
       "        vertical-align: top;\n",
       "    }\n",
       "\n",
       "    .dataframe thead th {\n",
       "        text-align: right;\n",
       "    }\n",
       "</style>\n",
       "<table border=\"1\" class=\"dataframe\">\n",
       "  <thead>\n",
       "    <tr style=\"text-align: right;\">\n",
       "      <th></th>\n",
       "      <th>0</th>\n",
       "    </tr>\n",
       "  </thead>\n",
       "  <tbody>\n",
       "    <tr>\n",
       "      <th>0</th>\n",
       "      <td>{\"train\": [{\"convo_id\": 3592, \"scenario\": {\"pe...</td>\n",
       "    </tr>\n",
       "  </tbody>\n",
       "</table>\n",
       "</div>"
      ],
      "text/plain": [
       "                                                   0\n",
       "0  {\"train\": [{\"convo_id\": 3592, \"scenario\": {\"pe..."
      ]
     },
     "execution_count": 14,
     "metadata": {},
     "output_type": "execute_result"
    }
   ],
   "source": [
    "# 1. Without unzip file\n",
    "\n",
    "# open json file\n",
    "filepath = \"C:/Users/dotto/asapp-2b/data/abcd_v1.1.json.gz\"\n",
    "\n",
    "# Select 'original' column and tokenize\n",
    "with gzip.open(filepath, mode='rt') as f:\n",
    "    text = f.readlines()\n",
    "\n",
    "# convert into text \n",
    "# Append into list \n",
    "data = []\n",
    "for t in text:\n",
    "    data.append(t)\n",
    "\n",
    "train_df = pd.DataFrame(data)\n",
    "train_df.head()"
   ]
  },
  {
   "cell_type": "code",
   "execution_count": 4,
   "metadata": {},
   "outputs": [
    {
     "ename": "TypeError",
     "evalue": "string indices must be integers",
     "output_type": "error",
     "traceback": [
      "\u001b[1;31m---------------------------------------------------------------------------\u001b[0m",
      "\u001b[1;31mTypeError\u001b[0m                                 Traceback (most recent call last)",
      "\u001b[1;32m~\\AppData\\Local\\Temp/ipykernel_53348/4071808516.py\u001b[0m in \u001b[0;36m<module>\u001b[1;34m\u001b[0m\n\u001b[0;32m     11\u001b[0m \u001b[1;33m\u001b[0m\u001b[0m\n\u001b[0;32m     12\u001b[0m \u001b[1;31m# extract original column\u001b[0m\u001b[1;33m\u001b[0m\u001b[1;33m\u001b[0m\u001b[0m\n\u001b[1;32m---> 13\u001b[1;33m \u001b[0moriginal\u001b[0m \u001b[1;33m=\u001b[0m \u001b[1;33m[\u001b[0m\u001b[0mitem\u001b[0m\u001b[1;33m[\u001b[0m\u001b[1;34m'original'\u001b[0m\u001b[1;33m]\u001b[0m \u001b[1;32mfor\u001b[0m \u001b[0mitem\u001b[0m \u001b[1;32min\u001b[0m \u001b[0mjson_text\u001b[0m\u001b[1;33m]\u001b[0m\u001b[1;33m\u001b[0m\u001b[1;33m\u001b[0m\u001b[0m\n\u001b[0m\u001b[0;32m     14\u001b[0m \u001b[1;33m\u001b[0m\u001b[0m\n\u001b[0;32m     15\u001b[0m \u001b[1;31m# exception: no original key, append None\u001b[0m\u001b[1;33m\u001b[0m\u001b[1;33m\u001b[0m\u001b[0m\n",
      "\u001b[1;32m~\\AppData\\Local\\Temp/ipykernel_53348/4071808516.py\u001b[0m in \u001b[0;36m<listcomp>\u001b[1;34m(.0)\u001b[0m\n\u001b[0;32m     11\u001b[0m \u001b[1;33m\u001b[0m\u001b[0m\n\u001b[0;32m     12\u001b[0m \u001b[1;31m# extract original column\u001b[0m\u001b[1;33m\u001b[0m\u001b[1;33m\u001b[0m\u001b[0m\n\u001b[1;32m---> 13\u001b[1;33m \u001b[0moriginal\u001b[0m \u001b[1;33m=\u001b[0m \u001b[1;33m[\u001b[0m\u001b[0mitem\u001b[0m\u001b[1;33m[\u001b[0m\u001b[1;34m'original'\u001b[0m\u001b[1;33m]\u001b[0m \u001b[1;32mfor\u001b[0m \u001b[0mitem\u001b[0m \u001b[1;32min\u001b[0m \u001b[0mjson_text\u001b[0m\u001b[1;33m]\u001b[0m\u001b[1;33m\u001b[0m\u001b[1;33m\u001b[0m\u001b[0m\n\u001b[0m\u001b[0;32m     14\u001b[0m \u001b[1;33m\u001b[0m\u001b[0m\n\u001b[0;32m     15\u001b[0m \u001b[1;31m# exception: no original key, append None\u001b[0m\u001b[1;33m\u001b[0m\u001b[1;33m\u001b[0m\u001b[0m\n",
      "\u001b[1;31mTypeError\u001b[0m: string indices must be integers"
     ]
    }
   ],
   "source": [
    "# 2. Try to load and read file by column 'original'\n",
    "# open json file\n",
    "filepath = \"C:/Users/dotto/asapp-2b/data/abcd_v1.1.json.gz\"\n",
    "\n",
    "# read gzip file without extracting\n",
    "with gzip.open(filepath, mode='rt') as gzf:\n",
    "    # gzip file into json\n",
    "    json_data = json.load(gzf)\n",
    "    # json into text\n",
    "    json_text = json.dumps(json_data)\n",
    "    \n",
    "# extract original column\n",
    "original = [item['original'] for item in json_text]\n",
    "\n",
    "# exception: no original key, append None\n",
    "for text in json_text:\n",
    "     if 'original' in text: original.append(item['original'])\n",
    "     else: original.append(None)\n",
    "\n",
    "# TypeError fixed\n",
    "original_fixed = [item for sublist in original for item in sublist]\n",
    "\n",
    "# put it into DataFrame\n",
    "train_df = pd.DataFrame(original_fixed)\n",
    "\n",
    "# sneak peak\n",
    "train_df.head()\n",
    "\n",
    "# end up with TypeError...TypeError: string indices must be integers\n"
   ]
  },
  {
   "cell_type": "code",
   "execution_count": 18,
   "metadata": {},
   "outputs": [
    {
     "data": {
      "text/plain": [
       "[['agent', 'Hi!'],\n",
       " ['agent', 'How can I help you?'],\n",
       " ['customer', 'Hi! I need to return an item, can you help me with that?'],\n",
       " ['agent', 'sure, may I have your name please?'],\n",
       " ['customer', 'Crystal Minh'],\n",
       " ['agent', 'thanks, may I ask the reason for the return?'],\n",
       " ['action', 'Account has been pulled up for Crystal Minh.'],\n",
       " ['customer', 'I got the wrong size.'],\n",
       " ['agent', 'ok, may I have your username, email address and order ID please?'],\n",
       " ['customer', 'Username: cminh730'],\n",
       " ['customer', 'cminh730@email.com'],\n",
       " ['customer', 'Order ID: 3348917502'],\n",
       " ['action', 'Purchase validation in progress ...'],\n",
       " ['agent', 'thanks so much! What is your membership level Crystal?'],\n",
       " ['customer', \"I'm a bronze\"],\n",
       " ['agent', 'ok, was the purchase made in the last 90 days?'],\n",
       " ['customer', 'No, I bought it in November.'],\n",
       " ['agent',\n",
       "  'ok, unfortunately because it has been more than 90 days we cannot accept the return. Would there be anything else I can help you with?'],\n",
       " ['customer', 'What if I ask really, really nicely?'],\n",
       " ['agent', \"I can escalate to my manager if you'd like\"],\n",
       " ['agent', \"I'd just need your phone number.\"],\n",
       " ['customer', '(977) 625-2661'],\n",
       " ['action', 'Details of (977) 625-2661 have been entered.'],\n",
       " ['action', 'The manager has been notified.'],\n",
       " ['customer', \"I'll look forward to hearing from them.\"],\n",
       " ['customer', 'Thanks for trying to help.'],\n",
       " ['agent',\n",
       "  \"OK, I have let my manager know, they will give you a call. Sorry I couldn't be of more assistance!\"],\n",
       " ['agent', 'Have a great night!'],\n",
       " ['customer', \"That's it. Take care.\"]]"
      ]
     },
     "execution_count": 18,
     "metadata": {},
     "output_type": "execute_result"
    }
   ],
   "source": [
    "# 3. Read gzip file and extract original column\n",
    "# File path to your Gzip-compressed data file\n",
    "filepath = \"C:/Users/dotto/asapp-2b/data/abcd_v1.1.json.gz\"\n",
    "\n",
    "\n",
    "# Open and read the gzip file\n",
    "with gzip.open(filepath, 'rt', encoding='utf-8') as f:\n",
    "    data = json.load(f)\n",
    "    \n",
    "#print(data.keys())\n",
    "# ['train','dev','test']\n",
    "# we will use train data\n",
    "\n",
    "\n",
    "# extract original column\n",
    "original=[]\n",
    "for text in data['train'][0]['original']:\n",
    "    original.append(text)\n",
    "    \n",
    "# sneak peak!   \n",
    "original\n"
   ]
  }
 ],
 "metadata": {
  "kernelspec": {
   "display_name": "conda",
   "language": "python",
   "name": "conda"
  },
  "language_info": {
   "codemirror_mode": {
    "name": "ipython",
    "version": 3
   },
   "file_extension": ".py",
   "mimetype": "text/x-python",
   "name": "python",
   "nbconvert_exporter": "python",
   "pygments_lexer": "ipython3",
   "version": "3.9.7"
  },
  "orig_nbformat": 4
 },
 "nbformat": 4,
 "nbformat_minor": 2
}
